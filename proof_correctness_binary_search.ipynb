{
 "cells": [
  {
   "cell_type": "markdown",
   "source": [
    "# Question 2: Write and Proof the Correctness of Binary Search Code"
   ],
   "metadata": {
    "collapsed": false
   },
   "id": "372e2162c5fb1a7b"
  },
  {
   "cell_type": "markdown",
   "source": [
    "I think the correctness of the function performing the binary search can be as follows:\n",
    "\n",
    "Input: An array of integer $A$, a target integer $V$.\n",
    "\n",
    "Precondition: $A$ is sorted; i.e. for two integers $i,j$ in the range of $ [0,A.length-1] \\textrm{ and } i < j, A[i] \\leq A[j]$.\n",
    "\n",
    "Postcondition: Return $k$ such that $A[k] = V$ if $V $ is in $ A$ else return -1."
   ],
   "metadata": {
    "collapsed": false
   },
   "id": "c10f62877396c161"
  },
  {
   "cell_type": "code",
   "outputs": [],
   "source": [
    "def binary_search(A: list[int], V: int) -> int:\n",
    "    lower = 0\n",
    "    upper = len(A) - 1\n",
    "    while upper >= lower:                       # line 4\n",
    "        mid = (lower + upper) // 2\n",
    "        if V == A[mid]:\n",
    "            return mid\n",
    "        elif V < A[mid]:\n",
    "            upper = mid - 1                     # line 9\n",
    "        else:\n",
    "            lower = mid + 1                     # line 11\n",
    "    return -1                                   # line 12"
   ],
   "metadata": {
    "collapsed": false,
    "ExecuteTime": {
     "end_time": "2024-01-06T08:06:24.838477600Z",
     "start_time": "2024-01-06T08:06:24.827356500Z"
    }
   },
   "id": "ad1777e01ca2f029",
   "execution_count": 1
  },
  {
   "cell_type": "markdown",
   "source": [
    "Proof of correctness:\n",
    "\n",
    "Claim 1: If line 4 is executed more than once, than $upper - lower$ at the $i$th time line 4 is executed is less than $upper - lower$ at the $(i-1)$th time line 4 is executed for $i > 1$.\n",
    "\n",
    "Proof: By line 5 we know that $lower \\leq mid \\leq upper$ is always true. Then the execution of line 9 will strictly decrease the value of $upper$, and the execution of line 11 will strictly increase the value of $lower$. Since line 9 and line 11 are the only two lines that can jump back to line 4, the claim is true. \n",
    "\n",
    "Claim 2: When line 4 is executed, either $upper \\geq lower$ or $V$ is not in the array.\n",
    "\n",
    "Proof: Proof by induction. Base case: when line 4 is reached for the first time, $lower$ and $upper$ are initialized by line 2 and line 3. The statement is trivially true. Inductive step: when line 4 is reached for the $i$th time, $i>1$, either $A[mid] = V$ or $A[mid] \\neq V$. If $A[mid] = V$, there will not be another execution of the loop, and the function returns $mid.$ If $A[mid] \\neq V$, by the inductive hypothesis, $lower \\leq upper$. If $lower < upper$, after $upper$ is updated by line 9 or $lower$ is updated by line 11, $lower \\leq upper$ still holds. After the bound update, because the array is sorted, $V$ must have an index in the $[lower, upper]$ range if it is in $A$. If $lower = upper$, $lower = upper = mid$. Then after $upper$ is updated by line 9 or $lower$ is updated by line 11,  $lower \\leq upper$ no longer holds. In this case, the range is an empty set, so $V$ is not in $A$.\n",
    "\n",
    "Because line 12 is only reachable when $lower > upper$, so -1 is only returned when $V$ is not in $A$ by Claim 2. By Claim 1, the loop cannot be executed infinitely many times. So it will terminate and return $mid$ when it finds a $mid$ such that $A[mid] = V$ if $V$ is in $A$ or return -1 at line 12. Thus the postcondition of the function holds. \\qedsymbol"
   ],
   "metadata": {
    "collapsed": false
   },
   "id": "435e72e3c464b834"
  },
  {
   "cell_type": "code",
   "outputs": [],
   "source": [],
   "metadata": {
    "collapsed": false
   },
   "id": "e6b88ee6e3c9644"
  }
 ],
 "metadata": {
  "kernelspec": {
   "display_name": "Python 3",
   "language": "python",
   "name": "python3"
  },
  "language_info": {
   "codemirror_mode": {
    "name": "ipython",
    "version": 2
   },
   "file_extension": ".py",
   "mimetype": "text/x-python",
   "name": "python",
   "nbconvert_exporter": "python",
   "pygments_lexer": "ipython2",
   "version": "2.7.6"
  }
 },
 "nbformat": 4,
 "nbformat_minor": 5
}
